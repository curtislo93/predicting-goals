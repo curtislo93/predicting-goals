{
 "cells": [
  {
   "cell_type": "markdown",
   "id": "5791abdd-e10e-4138-bbb6-e8f733ffaa06",
   "metadata": {},
   "source": [
    "#### Fine tune hyperparameters"
   ]
  },
  {
   "cell_type": "raw",
   "id": "a1e124ec-92d8-4113-910c-59324d21eedf",
   "metadata": {},
   "source": [
    "from sklearn.model_selection import RandomizedSearchCV\n",
    "from xgboost import XGBRegressor\n",
    "\n",
    "# Define the parameter grid for the randomized search\n",
    "param_dist = {\n",
    "    'learning_rate': [0.01, 0.1, 0.2],\n",
    "    'max_depth': [3, 4, 5, 6],\n",
    "    'n_estimators': [100, 200, 300, 400]\n",
    "}\n",
    "\n",
    "# Initialize the XGBoost regressor\n",
    "xgb = XGBRegressor()\n",
    "\n",
    "# Initialize the randomized search\n",
    "random_search = RandomizedSearchCV(xgb, param_distributions=param_dist, n_iter=10, scoring='neg_mean_squared_error', cv=5, n_jobs=-1)\n",
    "\n",
    "# Perform the search on your training data\n",
    "random_search.fit(X_train, y_train)\n",
    "\n",
    "# Get the best hyperparameters\n",
    "best_params = random_search.best_params_\n",
    "\n",
    "# Use the best hyperparameters to retrain the model\n",
    "best_xgb = XGBRegressor(**best_params)\n",
    "best_xgb.fit(X_train, y_train)\n"
   ]
  },
  {
   "cell_type": "raw",
   "id": "f70bdb88-8456-41dc-b7ab-fdefd95c65dd",
   "metadata": {
    "tags": []
   },
   "source": [
    "from xgboost import XGBRegressor\n",
    "\n",
    "# Define the best hyperparameters (replace these with the actual values you found)\n",
    "best_hyperparameters = {\n",
    "    'learning_rate': 0.1,\n",
    "    'max_depth': 4,\n",
    "    'n_estimators': 200,\n",
    "    # Add other hyperparameters here\n",
    "}\n",
    "\n",
    "# Initialize the XGBoost regressor with the best hyperparameters\n",
    "final_xgb_model = XGBRegressor(**best_hyperparameters)\n",
    "\n",
    "# Train the final model on the entire training dataset\n",
    "final_xgb_model.fit(X_train, y_train)"
   ]
  },
  {
   "cell_type": "code",
   "execution_count": null,
   "id": "5eff4f00-a68f-4e9a-a0f7-baa7044efa60",
   "metadata": {},
   "outputs": [],
   "source": []
  },
  {
   "cell_type": "code",
   "execution_count": null,
   "id": "5c63d96e-e78b-42f6-a023-9b6beb620fe1",
   "metadata": {},
   "outputs": [],
   "source": []
  },
  {
   "cell_type": "markdown",
   "id": "fc4bb9c5-6b30-45a2-a7fe-b1060cd884ad",
   "metadata": {},
   "source": [
    "### Weigh seasons: more recent = heavier"
   ]
  },
  {
   "cell_type": "raw",
   "id": "4b0cefc4-4cfd-4c74-b207-3f3598777c11",
   "metadata": {},
   "source": [
    "# Concatenate 'Year', 'Month', and 'Day' columns to create 'Date' column\n",
    "df['Date'] = df['Year'].astype(str) + '-' + df['Month'].astype(str) + '-' + df['Day'].astype(str)\n",
    "\n",
    "# Define a custom weighting function based on the date\n",
    "def custom_weight(date):\n",
    "    # Assign higher weights to more recent dates\n",
    "    if date >= '2021-10-01':\n",
    "        return 1.0\n",
    "    elif date >= '2020-10-01':\n",
    "        return 0.8\n",
    "    elif date >= '2019-10-01':\n",
    "        return 0.6\n",
    "    elif date >= '2018-10-01':\n",
    "        return 0.4\n",
    "    else:\n",
    "        return 0.2\n",
    "\n",
    "# Apply the custom weighting function to the DataFrame\n",
    "df['Weight'] = df['Date'].apply(lambda x: custom_weight(x))\n",
    "\n",
    "# Split the DataFrame into X (features) and y (target)\n",
    "X = df.drop(columns=['Total Goals', 'Year', 'Month', 'Day', 'Date'])\n",
    "y = df['Total Goals']\n",
    "\n",
    "# Split the data into training and test sets\n",
    "X_train, X_test, y_train, y_test = train_test_split(X, y, test_size=0.2, random_state=42)\n",
    "\n",
    "# Create 'Weight' columns in the training and test sets\n",
    "X_train['Weight'] = X_train.index.map(lambda x: custom_weight(df['Date'][x]))\n",
    "X_test['Weight'] = X_test.index.map(lambda x: custom_weight(df['Date'][x]))\n",
    "\n",
    "# Train a linear regression model, specifying sample weights\n",
    "model = LinearRegression()\n",
    "model.fit(X_train.drop(columns=['Weight']), y_train, sample_weight=X_train['Weight'])\n",
    "\n",
    "# Make predictions on the test set\n",
    "y_pred = model.predict(X_test.drop(columns=['Weight']))\n",
    "\n",
    "# Evaluate the model\n",
    "mse = mean_squared_error(y_test, y_pred)\n",
    "r2 = r2_score(y_test, y_pred)\n",
    "\n",
    "print(f\"Mean Squared Error: {mse}\")\n",
    "print(f\"R-squared: {r2}\")"
   ]
  },
  {
   "cell_type": "code",
   "execution_count": null,
   "id": "4e56d83a-2ada-4e15-a3de-aa640cd4df15",
   "metadata": {},
   "outputs": [],
   "source": []
  }
 ],
 "metadata": {
  "kernelspec": {
   "display_name": "Python 3 (ipykernel)",
   "language": "python",
   "name": "python3"
  },
  "language_info": {
   "codemirror_mode": {
    "name": "ipython",
    "version": 3
   },
   "file_extension": ".py",
   "mimetype": "text/x-python",
   "name": "python",
   "nbconvert_exporter": "python",
   "pygments_lexer": "ipython3",
   "version": "3.11.3"
  }
 },
 "nbformat": 4,
 "nbformat_minor": 5
}
